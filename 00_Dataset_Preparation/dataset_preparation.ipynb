{
 "cells": [
  {
   "cell_type": "markdown",
   "id": "9cc4cca3-9d9d-449a-bd92-e9a1f7704c5e",
   "metadata": {},
   "source": [
    "# Bitext - Customer Service Tagged Training Dataset\n",
    "## Overview\n",
    "This dataset can be used to train intent recognition models on Natural Language Understanding (NLU) platforms: LUIS, Dialogflow, Lex, RASA and any other NLU platform that accepts text as input.\n",
    "\n",
    "The training dataset contains 8,100 utterances (300 per intent), because most platforms limit the number of utterances that can be used for training"
   ]
  },
  {
   "cell_type": "markdown",
   "id": "c869950a-b726-4a1a-bae6-8e5f7ac7baa0",
   "metadata": {},
   "source": [
    "## Cleaning up the dataset\n",
    "\n",
    "From the dataset, we are removing the categories which is not having less than 3 intents, which removes the following categories:\n",
    "- CANCELLATION_FEE\n",
    "- FEEDBACK\n",
    "- NEWSLETTER"
   ]
  },
  {
   "cell_type": "markdown",
   "id": "132b4b23-a0ec-4d91-932f-419a57dd4df6",
   "metadata": {},
   "source": [
    "## Code"
   ]
  },
  {
   "cell_type": "markdown",
   "id": "183650af-1068-4082-8ba1-4fae5d0c8727",
   "metadata": {},
   "source": [
    "### Installing Required Libraries"
   ]
  },
  {
   "cell_type": "code",
   "execution_count": null,
   "id": "5d95428d-c86e-481e-91ba-acdab74f5947",
   "metadata": {},
   "outputs": [],
   "source": [
    "! pip install pandas numpy"
   ]
  },
  {
   "cell_type": "markdown",
   "id": "255a7c91-8f10-4239-bf61-6421a28e333b",
   "metadata": {},
   "source": [
    "### Importing Required Libraries"
   ]
  },
  {
   "cell_type": "code",
   "execution_count": 15,
   "id": "3c974e3b-be79-43ae-8257-4b06b26e0eff",
   "metadata": {},
   "outputs": [],
   "source": [
    "import pandas as pd\n",
    "import numpy as np\n",
    "import os"
   ]
  },
  {
   "cell_type": "markdown",
   "id": "419d4715-3f7c-4863-a4ee-eb94cac3e465",
   "metadata": {},
   "source": [
    "### Importing the Datasets"
   ]
  },
  {
   "cell_type": "code",
   "execution_count": 16,
   "id": "a6440ad3-b6d8-49b2-a54e-0cdab336e693",
   "metadata": {},
   "outputs": [],
   "source": [
    "#navigate to parent directory\n",
    "parent_dir = os.path.dirname(os.getcwd())\n",
    "\n",
    "#setting the filenames\n",
    "training_file = os.path.join(parent_dir, 'data/train/Bitext_Sample_Customer_Service_Training_Dataset.csv')\n",
    "testing_file  = os.path.join(parent_dir, 'data/test/Bitext_Sample_Customer_Service_Testing_Dataset.csv')\n",
    "\n",
    "#opening the files\n",
    "training_df = pd.read_csv(training_file)\n",
    "testing_df  = pd.read_csv(testing_file)"
   ]
  },
  {
   "cell_type": "markdown",
   "id": "0d210f2c-08f5-4e6a-bdda-21d6d96e22c3",
   "metadata": {},
   "source": [
    "#### TRAINING DATASET"
   ]
  },
  {
   "cell_type": "code",
   "execution_count": 17,
   "id": "e7949042-e8db-4403-a03b-18864aefc77c",
   "metadata": {},
   "outputs": [
    {
     "data": {
      "text/html": [
       "<div>\n",
       "<style scoped>\n",
       "    .dataframe tbody tr th:only-of-type {\n",
       "        vertical-align: middle;\n",
       "    }\n",
       "\n",
       "    .dataframe tbody tr th {\n",
       "        vertical-align: top;\n",
       "    }\n",
       "\n",
       "    .dataframe thead th {\n",
       "        text-align: right;\n",
       "    }\n",
       "</style>\n",
       "<table border=\"1\" class=\"dataframe\">\n",
       "  <thead>\n",
       "    <tr style=\"text-align: right;\">\n",
       "      <th></th>\n",
       "      <th>utterance</th>\n",
       "      <th>intent</th>\n",
       "      <th>entity_type</th>\n",
       "      <th>entity_value</th>\n",
       "      <th>start_offset</th>\n",
       "      <th>end_offset</th>\n",
       "      <th>category</th>\n",
       "      <th>tags</th>\n",
       "    </tr>\n",
       "  </thead>\n",
       "  <tbody>\n",
       "    <tr>\n",
       "      <th>0</th>\n",
       "      <td>how can I cancel purchase 113542617735902?</td>\n",
       "      <td>cancel_order</td>\n",
       "      <td>order_id</td>\n",
       "      <td>113542617735902</td>\n",
       "      <td>26.0</td>\n",
       "      <td>41.0</td>\n",
       "      <td>ORDER</td>\n",
       "      <td>BIL</td>\n",
       "    </tr>\n",
       "    <tr>\n",
       "      <th>1</th>\n",
       "      <td>can you help me canceling purchase 00004587345?</td>\n",
       "      <td>cancel_order</td>\n",
       "      <td>order_id</td>\n",
       "      <td>00004587345</td>\n",
       "      <td>35.0</td>\n",
       "      <td>46.0</td>\n",
       "      <td>ORDER</td>\n",
       "      <td>BIL</td>\n",
       "    </tr>\n",
       "    <tr>\n",
       "      <th>2</th>\n",
       "      <td>i want assistance to cancel purchase 732201349959</td>\n",
       "      <td>cancel_order</td>\n",
       "      <td>order_id</td>\n",
       "      <td>732201349959</td>\n",
       "      <td>37.0</td>\n",
       "      <td>49.0</td>\n",
       "      <td>ORDER</td>\n",
       "      <td>BLQ</td>\n",
       "    </tr>\n",
       "    <tr>\n",
       "      <th>3</th>\n",
       "      <td>i want assistance to cancel order 732201349959</td>\n",
       "      <td>cancel_order</td>\n",
       "      <td>order_id</td>\n",
       "      <td>732201349959</td>\n",
       "      <td>34.0</td>\n",
       "      <td>46.0</td>\n",
       "      <td>ORDER</td>\n",
       "      <td>BQ</td>\n",
       "    </tr>\n",
       "    <tr>\n",
       "      <th>4</th>\n",
       "      <td>I don't want my last item, help me cancel orde...</td>\n",
       "      <td>cancel_order</td>\n",
       "      <td>order_id</td>\n",
       "      <td>370795561790</td>\n",
       "      <td>48.0</td>\n",
       "      <td>60.0</td>\n",
       "      <td>ORDER</td>\n",
       "      <td>BCLN</td>\n",
       "    </tr>\n",
       "  </tbody>\n",
       "</table>\n",
       "</div>"
      ],
      "text/plain": [
       "                                           utterance        intent  \\\n",
       "0         how can I cancel purchase 113542617735902?  cancel_order   \n",
       "1    can you help me canceling purchase 00004587345?  cancel_order   \n",
       "2  i want assistance to cancel purchase 732201349959  cancel_order   \n",
       "3     i want assistance to cancel order 732201349959  cancel_order   \n",
       "4  I don't want my last item, help me cancel orde...  cancel_order   \n",
       "\n",
       "  entity_type     entity_value  start_offset  end_offset category  tags  \n",
       "0    order_id  113542617735902          26.0        41.0    ORDER   BIL  \n",
       "1    order_id      00004587345          35.0        46.0    ORDER   BIL  \n",
       "2    order_id     732201349959          37.0        49.0    ORDER   BLQ  \n",
       "3    order_id     732201349959          34.0        46.0    ORDER    BQ  \n",
       "4    order_id     370795561790          48.0        60.0    ORDER  BCLN  "
      ]
     },
     "execution_count": 17,
     "metadata": {},
     "output_type": "execute_result"
    }
   ],
   "source": [
    "training_df.head()"
   ]
  },
  {
   "cell_type": "markdown",
   "id": "283ea989-9541-4e42-abc3-8edd00cfd2ab",
   "metadata": {},
   "source": [
    "##### Removing Categories with intents less than 3"
   ]
  },
  {
   "cell_type": "code",
   "execution_count": 18,
   "id": "4583a91f-86e2-4951-a3ee-bf2e634988eb",
   "metadata": {},
   "outputs": [],
   "source": [
    "# retain only categories with intents more than 2\n",
    "df = training_df[training_df[\"category\"].isin(['ACCOUNT', 'CONTACT', 'ORDER', 'PAYMENT', 'REFUND', 'SHIPPING_ADDRESS'])]"
   ]
  },
  {
   "cell_type": "code",
   "execution_count": 19,
   "id": "5573b607-c74e-44da-9ab3-0cd7a58c986e",
   "metadata": {},
   "outputs": [
    {
     "data": {
      "text/plain": [
       "array(['ORDER', 'SHIPPING_ADDRESS', 'PAYMENT', 'REFUND', 'CONTACT',\n",
       "       'ACCOUNT'], dtype=object)"
      ]
     },
     "execution_count": 19,
     "metadata": {},
     "output_type": "execute_result"
    }
   ],
   "source": [
    "df['category'].unique()"
   ]
  },
  {
   "cell_type": "code",
   "execution_count": 20,
   "id": "2b136558-0005-43a4-8350-207eb2fc64b4",
   "metadata": {},
   "outputs": [
    {
     "data": {
      "text/plain": [
       "array(['cancel_order', 'change_order', 'change_shipping_address',\n",
       "       'check_payment_methods', 'check_refund_policy',\n",
       "       'contact_customer_service', 'contact_human_agent',\n",
       "       'create_account', 'delete_account', 'edit_account', 'get_refund',\n",
       "       'payment_issue', 'place_order', 'recover_password',\n",
       "       'registration_problems', 'set_up_shipping_address',\n",
       "       'switch_account', 'track_order', 'track_refund'], dtype=object)"
      ]
     },
     "execution_count": 20,
     "metadata": {},
     "output_type": "execute_result"
    }
   ],
   "source": [
    "df['intent'].unique()"
   ]
  },
  {
   "cell_type": "markdown",
   "id": "8feb682c-68d8-4930-b6da-e152cbb056f9",
   "metadata": {},
   "source": [
    "##### Export the new dataset"
   ]
  },
  {
   "cell_type": "code",
   "execution_count": 21,
   "id": "ce487a85-2fd5-4fd5-bec4-ae0858f022c9",
   "metadata": {},
   "outputs": [],
   "source": [
    "# Export the DataFrame to a CSV file\n",
    "df.to_csv('./outputs/training_dataset.csv', index=False)"
   ]
  },
  {
   "cell_type": "markdown",
   "id": "082cdaf0-dff3-4256-b881-9642b5748453",
   "metadata": {},
   "source": [
    "#### TESTING DATASET"
   ]
  },
  {
   "cell_type": "code",
   "execution_count": 22,
   "id": "c4362d96-b6b3-4082-8a20-6c5f5a616bab",
   "metadata": {},
   "outputs": [
    {
     "data": {
      "text/html": [
       "<div>\n",
       "<style scoped>\n",
       "    .dataframe tbody tr th:only-of-type {\n",
       "        vertical-align: middle;\n",
       "    }\n",
       "\n",
       "    .dataframe tbody tr th {\n",
       "        vertical-align: top;\n",
       "    }\n",
       "\n",
       "    .dataframe thead th {\n",
       "        text-align: right;\n",
       "    }\n",
       "</style>\n",
       "<table border=\"1\" class=\"dataframe\">\n",
       "  <thead>\n",
       "    <tr style=\"text-align: right;\">\n",
       "      <th></th>\n",
       "      <th>utterance</th>\n",
       "      <th>intent</th>\n",
       "      <th>entity_type</th>\n",
       "      <th>entity_value</th>\n",
       "      <th>start_offset</th>\n",
       "      <th>end_offset</th>\n",
       "      <th>category</th>\n",
       "      <th>tags</th>\n",
       "    </tr>\n",
       "  </thead>\n",
       "  <tbody>\n",
       "    <tr>\n",
       "      <th>0</th>\n",
       "      <td>I do not know how I can cancel purchase 00123842</td>\n",
       "      <td>cancel_order</td>\n",
       "      <td>order_id</td>\n",
       "      <td>00123842</td>\n",
       "      <td>40.0</td>\n",
       "      <td>48.0</td>\n",
       "      <td>ORDER</td>\n",
       "      <td>BEL</td>\n",
       "    </tr>\n",
       "    <tr>\n",
       "      <th>1</th>\n",
       "      <td>help to cancel purchase 00004587345</td>\n",
       "      <td>cancel_order</td>\n",
       "      <td>order_id</td>\n",
       "      <td>00004587345</td>\n",
       "      <td>24.0</td>\n",
       "      <td>35.0</td>\n",
       "      <td>ORDER</td>\n",
       "      <td>BL</td>\n",
       "    </tr>\n",
       "    <tr>\n",
       "      <th>2</th>\n",
       "      <td>cancelling purchase 00123842</td>\n",
       "      <td>cancel_order</td>\n",
       "      <td>order_id</td>\n",
       "      <td>00123842</td>\n",
       "      <td>20.0</td>\n",
       "      <td>28.0</td>\n",
       "      <td>ORDER</td>\n",
       "      <td>BKL</td>\n",
       "    </tr>\n",
       "    <tr>\n",
       "      <th>3</th>\n",
       "      <td>cancel purchase 00004587345</td>\n",
       "      <td>cancel_order</td>\n",
       "      <td>order_id</td>\n",
       "      <td>00004587345</td>\n",
       "      <td>16.0</td>\n",
       "      <td>27.0</td>\n",
       "      <td>ORDER</td>\n",
       "      <td>BKL</td>\n",
       "    </tr>\n",
       "    <tr>\n",
       "      <th>4</th>\n",
       "      <td>I  don't know how to cancel order 732201349959</td>\n",
       "      <td>cancel_order</td>\n",
       "      <td>order_id</td>\n",
       "      <td>732201349959</td>\n",
       "      <td>34.0</td>\n",
       "      <td>46.0</td>\n",
       "      <td>ORDER</td>\n",
       "      <td>BZ</td>\n",
       "    </tr>\n",
       "  </tbody>\n",
       "</table>\n",
       "</div>"
      ],
      "text/plain": [
       "                                          utterance        intent entity_type  \\\n",
       "0  I do not know how I can cancel purchase 00123842  cancel_order    order_id   \n",
       "1               help to cancel purchase 00004587345  cancel_order    order_id   \n",
       "2                      cancelling purchase 00123842  cancel_order    order_id   \n",
       "3                       cancel purchase 00004587345  cancel_order    order_id   \n",
       "4    I  don't know how to cancel order 732201349959  cancel_order    order_id   \n",
       "\n",
       "   entity_value  start_offset  end_offset category tags  \n",
       "0      00123842          40.0        48.0    ORDER  BEL  \n",
       "1   00004587345          24.0        35.0    ORDER   BL  \n",
       "2      00123842          20.0        28.0    ORDER  BKL  \n",
       "3   00004587345          16.0        27.0    ORDER  BKL  \n",
       "4  732201349959          34.0        46.0    ORDER   BZ  "
      ]
     },
     "execution_count": 22,
     "metadata": {},
     "output_type": "execute_result"
    }
   ],
   "source": [
    "testing_df.head()"
   ]
  },
  {
   "cell_type": "markdown",
   "id": "42a69406-9664-4fec-bc25-3cc14475a28f",
   "metadata": {},
   "source": [
    "##### Removing Categories with intents less than 3"
   ]
  },
  {
   "cell_type": "code",
   "execution_count": 23,
   "id": "f8e549af-c14f-4690-9e63-12efa71f36dd",
   "metadata": {},
   "outputs": [],
   "source": [
    "# retain only categories with intents more than 2\n",
    "df = testing_df[testing_df[\"category\"].isin(['ACCOUNT', 'CONTACT', 'ORDER', 'PAYMENT', 'REFUND', 'SHIPPING_ADDRESS'])]"
   ]
  },
  {
   "cell_type": "code",
   "execution_count": 24,
   "id": "5aaa6dbf-98ee-4ffe-acef-955439bd2a05",
   "metadata": {},
   "outputs": [
    {
     "data": {
      "text/plain": [
       "array(['ORDER', 'SHIPPING_ADDRESS', 'PAYMENT', 'REFUND', 'CONTACT',\n",
       "       'ACCOUNT'], dtype=object)"
      ]
     },
     "execution_count": 24,
     "metadata": {},
     "output_type": "execute_result"
    }
   ],
   "source": [
    "df['category'].unique()"
   ]
  },
  {
   "cell_type": "code",
   "execution_count": 25,
   "id": "d51a7651-b9e8-4023-b0b0-aa2b1b4ba040",
   "metadata": {},
   "outputs": [
    {
     "data": {
      "text/plain": [
       "array(['cancel_order', 'change_order', 'change_shipping_address',\n",
       "       'check_payment_methods', 'check_refund_policy',\n",
       "       'contact_customer_service', 'contact_human_agent',\n",
       "       'create_account', 'delete_account', 'edit_account', 'get_refund',\n",
       "       'payment_issue', 'place_order', 'recover_password',\n",
       "       'registration_problems', 'set_up_shipping_address',\n",
       "       'switch_account', 'track_order', 'track_refund'], dtype=object)"
      ]
     },
     "execution_count": 25,
     "metadata": {},
     "output_type": "execute_result"
    }
   ],
   "source": [
    "df['intent'].unique()"
   ]
  },
  {
   "cell_type": "code",
   "execution_count": 26,
   "id": "b84349e6-a2a4-468b-b51e-ac740aad2142",
   "metadata": {},
   "outputs": [
    {
     "data": {
      "text/plain": [
       "array(['cancel_order', 'change_order', 'change_shipping_address',\n",
       "       'check_payment_methods', 'check_refund_policy',\n",
       "       'contact_customer_service', 'contact_human_agent',\n",
       "       'create_account', 'delete_account', 'edit_account', 'get_refund',\n",
       "       'payment_issue', 'place_order', 'recover_password',\n",
       "       'registration_problems', 'set_up_shipping_address',\n",
       "       'switch_account', 'track_order', 'track_refund'], dtype=object)"
      ]
     },
     "execution_count": 26,
     "metadata": {},
     "output_type": "execute_result"
    }
   ],
   "source": [
    "df['intent'].unique()"
   ]
  },
  {
   "cell_type": "markdown",
   "id": "0fb8317f-3d31-43f6-ba99-ccee79d979e8",
   "metadata": {},
   "source": [
    "##### Export the dataset"
   ]
  },
  {
   "cell_type": "code",
   "execution_count": 27,
   "id": "cf2bd03e-d5ad-402a-bedd-879185e41d0d",
   "metadata": {},
   "outputs": [],
   "source": [
    "# Export the DataFrame to a CSV file\n",
    "df.to_csv('./outputs/testing_dataset.csv', index=False)"
   ]
  }
 ],
 "metadata": {
  "kernelspec": {
   "display_name": "Python 3 (ipykernel)",
   "language": "python",
   "name": "python3"
  },
  "language_info": {
   "codemirror_mode": {
    "name": "ipython",
    "version": 3
   },
   "file_extension": ".py",
   "mimetype": "text/x-python",
   "name": "python",
   "nbconvert_exporter": "python",
   "pygments_lexer": "ipython3",
   "version": "3.11.3"
  }
 },
 "nbformat": 4,
 "nbformat_minor": 5
}
