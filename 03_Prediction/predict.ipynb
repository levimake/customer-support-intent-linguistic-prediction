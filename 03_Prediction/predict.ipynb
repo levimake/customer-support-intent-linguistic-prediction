{
 "cells": [
  {
   "cell_type": "code",
   "execution_count": 7,
   "id": "77739f38-5f13-49d5-8969-8cac305f2cbc",
   "metadata": {},
   "outputs": [],
   "source": [
    "import numpy as np"
   ]
  },
  {
   "cell_type": "code",
   "execution_count": 50,
   "id": "234003d3-3a32-49c1-9372-a4381b1f39f3",
   "metadata": {},
   "outputs": [],
   "source": [
    "INTENT_INDICES = range(0,19)\n",
    "TAGS_INDICES   = range(19,30)\n",
    "\n",
    "# Apply two logics for Multiclass Columns and Multilabel Columns\n",
    "def get_preds_from_logits(logits):\n",
    "    ret = np.zeros(logits.shape)\n",
    "\n",
    "    # The first 19 columns are for customer intents. They should be handled with a multiclass approach\n",
    "    # i.e. we fill 1 to the class with highest probability, and 0 into the other columns\n",
    "    best_class = np.argmax(logits[:, INTENT_INDICES], axis=-1)\n",
    "    ret[list(range(len(ret))), best_class] = 1\n",
    "\n",
    "    # The other columns are for register tags. They should be handled with multilabel approach.\n",
    "    # i.e. we fill 1 to every class whose score is higher than some threshold\n",
    "    # In this example, we choose that threshold = 0\n",
    "    ret[:, TAGS_INDICES] = (logits[:, TAGS_INDICES] >= 0).astype(int)\n",
    "\n",
    "    return ret"
   ]
  },
  {
   "cell_type": "code",
   "execution_count": 2,
   "id": "cd0c9251-7a71-470b-a0ff-b21d543099f8",
   "metadata": {},
   "outputs": [
    {
     "name": "stderr",
     "output_type": "stream",
     "text": [
      "/home/levis/Others/Projects/customer-support-intent-linguistic-prediction/venv/lib/python3.11/site-packages/tqdm/auto.py:21: TqdmWarning: IProgress not found. Please update jupyter and ipywidgets. See https://ipywidgets.readthedocs.io/en/stable/user_install.html\n",
      "  from .autonotebook import tqdm as notebook_tqdm\n"
     ]
    }
   ],
   "source": [
    "from transformers import DistilBertForSequenceClassification, DistilBertTokenizer"
   ]
  },
  {
   "cell_type": "code",
   "execution_count": 12,
   "id": "1ea86ec2-255f-4c21-b921-0040c5e039fd",
   "metadata": {},
   "outputs": [],
   "source": [
    "import os\n",
    "\n",
    "# Load the custom pretrained model\n",
    "\n",
    "#navigate to parent directory\n",
    "parent_dir = os.path.dirname(os.getcwd())\n",
    "\n",
    "#navigate to model directory\n",
    "model_path = os.path.join(parent_dir, 'models')\n",
    "\n",
    "model = DistilBertForSequenceClassification.from_pretrained(model_path)\n",
    "\n",
    "# Load the tokenizer\n",
    "tokenizer = DistilBertTokenizer.from_pretrained('distilbert-base-uncased')"
   ]
  },
  {
   "cell_type": "code",
   "execution_count": 17,
   "id": "bbd5018e-8a82-44ad-9ab5-66ee282973ca",
   "metadata": {},
   "outputs": [
    {
     "name": "stdout",
     "output_type": "stream",
     "text": [
      "cuda\n"
     ]
    }
   ],
   "source": [
    "# Setting up the device for GPU usage\n",
    "from torch import cuda\n",
    "device = 'cuda' if cuda.is_available() else 'cpu'\n",
    "print(device)"
   ]
  },
  {
   "cell_type": "code",
   "execution_count": 18,
   "id": "2d4b4b75-3ee9-4b66-b054-baf026caeebd",
   "metadata": {},
   "outputs": [],
   "source": [
    "model = model.to(device)"
   ]
  },
  {
   "cell_type": "code",
   "execution_count": 33,
   "id": "aa598b03-807b-4470-b1cb-76c60de32c55",
   "metadata": {},
   "outputs": [],
   "source": [
    "input_texts =  \"i have bought the same item twice cancel order 00123842\""
   ]
  },
  {
   "cell_type": "code",
   "execution_count": 34,
   "id": "c2a44fc1-3556-4426-91e1-d8266803b418",
   "metadata": {},
   "outputs": [],
   "source": [
    "# Encode the text\n",
    "encoded_input = tokenizer(input_texts,\n",
    "                          truncation=True,\n",
    "                          padding=\"max_length\",\n",
    "                          max_length=128,\n",
    "                          return_tensors='pt').to('cuda')"
   ]
  },
  {
   "cell_type": "code",
   "execution_count": 35,
   "id": "40b71551-a5f2-4728-8b6c-e1982bedca06",
   "metadata": {},
   "outputs": [],
   "source": [
    "# Call the model to predict under the format of logits of 30 classes\n",
    "logits = model(**encoded_input).logits.cpu().detach().numpy()"
   ]
  },
  {
   "cell_type": "code",
   "execution_count": 36,
   "id": "b2b39f92-4d1d-4b54-a0a6-b7336b713fb3",
   "metadata": {},
   "outputs": [],
   "source": [
    "# Decode the result\n",
    "preds = get_preds_from_logits(logits)"
   ]
  },
  {
   "cell_type": "code",
   "execution_count": 37,
   "id": "9f01cd40-f9a9-4774-afee-6b6dea05ab7b",
   "metadata": {},
   "outputs": [
    {
     "data": {
      "text/plain": [
       "array([[1., 0., 0., 0., 0., 0., 0., 0., 0., 0., 0., 0., 0., 0., 0., 0.,\n",
       "        0., 0., 0., 0., 0., 0., 0., 1., 1., 0., 0., 1., 0., 0.]])"
      ]
     },
     "execution_count": 37,
     "metadata": {},
     "output_type": "execute_result"
    }
   ],
   "source": [
    "preds"
   ]
  },
  {
   "cell_type": "markdown",
   "id": "e2849f85-6321-4652-8841-472021493b96",
   "metadata": {},
   "source": [
    "## TRANSLATING OUTPUTS FROM OUTPUT LABELS"
   ]
  },
  {
   "cell_type": "code",
   "execution_count": 9,
   "id": "83c857ce-8029-4e68-8661-0bcdfe88c5d2",
   "metadata": {},
   "outputs": [],
   "source": [
    "# LABEL DICTIONARY\n",
    "\n",
    "intents_map = {\n",
    "    0: 'cancel_order',\n",
    "    1: 'change_order',\n",
    "    2: 'change_shipping_address',\n",
    "    3: 'check_payment_methods',\n",
    "    4: 'check_refund_policy',\n",
    "    5: 'contact_customer_service',\n",
    "    6: 'contact_human_agent',\n",
    "    7: 'create_account',\n",
    "    8: 'delete_account',\n",
    "    9: 'edit_account',\n",
    "   10: 'get_refund',\n",
    "   11: 'payment_issue',\n",
    "   12: 'place_order',\n",
    "   13: 'recover_password',\n",
    "   14: 'registration_problems',\n",
    "   15: 'set_up_shipping_address',\n",
    "   16: 'switch_account',\n",
    "   17: 'track_order',\n",
    "   18: 'track_refund'\n",
    "}\n",
    "\n",
    "tags_labels = np.array(['Q', 'P', 'W', 'K', 'B', 'C', 'I', 'M', 'L', 'E', 'Z'])"
   ]
  },
  {
   "cell_type": "code",
   "execution_count": 41,
   "id": "dc509783-3845-4125-9d35-8bb81232b20b",
   "metadata": {},
   "outputs": [],
   "source": [
    "intents_array = preds[0][:19]\n",
    "tags_array = preds[0][19:]"
   ]
  },
  {
   "cell_type": "code",
   "execution_count": 40,
   "id": "b3c310cb-e14b-4a59-9791-bc23f50e0270",
   "metadata": {},
   "outputs": [
    {
     "data": {
      "text/plain": [
       "array([1., 0., 0., 0., 0., 0., 0., 0., 0., 0., 0., 0., 0., 0., 0., 0., 0.,\n",
       "       0., 0.])"
      ]
     },
     "execution_count": 40,
     "metadata": {},
     "output_type": "execute_result"
    }
   ],
   "source": [
    "intents_array"
   ]
  },
  {
   "cell_type": "code",
   "execution_count": 42,
   "id": "30d38202-67c8-40e6-acdc-bbcf2c0c9051",
   "metadata": {},
   "outputs": [
    {
     "data": {
      "text/plain": [
       "array([0., 0., 0., 0., 1., 1., 0., 0., 1., 0., 0.])"
      ]
     },
     "execution_count": 42,
     "metadata": {},
     "output_type": "execute_result"
    }
   ],
   "source": [
    "tags_array"
   ]
  },
  {
   "cell_type": "markdown",
   "id": "79769f74-d789-495c-ad03-a4d4cfbbfac4",
   "metadata": {},
   "source": [
    "### Intent Prediction"
   ]
  },
  {
   "cell_type": "code",
   "execution_count": 46,
   "id": "d02c1571-3223-4e2a-b374-64f5f57c609b",
   "metadata": {},
   "outputs": [],
   "source": [
    "intent = intents_map[intents_array.argmax()]"
   ]
  },
  {
   "cell_type": "code",
   "execution_count": 47,
   "id": "02de839a-aaf2-4947-b14d-549ca1cad961",
   "metadata": {},
   "outputs": [
    {
     "data": {
      "text/plain": [
       "'cancel_order'"
      ]
     },
     "execution_count": 47,
     "metadata": {},
     "output_type": "execute_result"
    }
   ],
   "source": [
    "intent"
   ]
  },
  {
   "cell_type": "markdown",
   "id": "76f92bf1-143f-4d69-a6e2-d32e37935c21",
   "metadata": {},
   "source": [
    "### Language Prediction"
   ]
  },
  {
   "cell_type": "code",
   "execution_count": 48,
   "id": "e3c61d0d-7580-4fa5-993d-71f9bef97914",
   "metadata": {},
   "outputs": [],
   "source": [
    "output_tag = \"\"\n",
    "\n",
    "for i in np.where(tags_array == 1)[0]:\n",
    "  output_tag += tags_labels[i]"
   ]
  },
  {
   "cell_type": "code",
   "execution_count": 49,
   "id": "a224fb62-9a11-481e-9515-3bc27109c384",
   "metadata": {},
   "outputs": [
    {
     "data": {
      "text/plain": [
       "'BCL'"
      ]
     },
     "execution_count": 49,
     "metadata": {},
     "output_type": "execute_result"
    }
   ],
   "source": [
    "output_tag"
   ]
  }
 ],
 "metadata": {
  "kernelspec": {
   "display_name": "Python 3 (ipykernel)",
   "language": "python",
   "name": "python3"
  },
  "language_info": {
   "codemirror_mode": {
    "name": "ipython",
    "version": 3
   },
   "file_extension": ".py",
   "mimetype": "text/x-python",
   "name": "python",
   "nbconvert_exporter": "python",
   "pygments_lexer": "ipython3",
   "version": "3.11.3"
  }
 },
 "nbformat": 4,
 "nbformat_minor": 5
}
