{
 "cells": [
  {
   "cell_type": "code",
   "execution_count": 1,
   "id": "de527316-fd82-4b58-95b6-02a8e77cd6f9",
   "metadata": {},
   "outputs": [],
   "source": [
    "import pandas as pd\n",
    "import numpy as np\n",
    "import matplotlib.pyplot as plt\n",
    "import os"
   ]
  },
  {
   "cell_type": "code",
   "execution_count": 97,
   "id": "6683c4e1-a65f-47f8-9c39-3e4eeb32aad2",
   "metadata": {},
   "outputs": [],
   "source": [
    "#navigate to parent directory\n",
    "parent_dir = os.path.dirname(os.getcwd())\n",
    "\n",
    "#setting the filenames\n",
    "training_file = os.path.join(parent_dir, 'data/train/Bitext_Sample_Customer_Service_Training_Dataset.csv')\n",
    "\n",
    "#opening the files\n",
    "training_df = pd.read_csv(training_file)"
   ]
  },
  {
   "cell_type": "code",
   "execution_count": 79,
   "id": "15bd9458-51ea-49a3-bc2f-740cf0d42b4d",
   "metadata": {},
   "outputs": [
    {
     "data": {
      "text/html": [
       "<div>\n",
       "<style scoped>\n",
       "    .dataframe tbody tr th:only-of-type {\n",
       "        vertical-align: middle;\n",
       "    }\n",
       "\n",
       "    .dataframe tbody tr th {\n",
       "        vertical-align: top;\n",
       "    }\n",
       "\n",
       "    .dataframe thead th {\n",
       "        text-align: right;\n",
       "    }\n",
       "</style>\n",
       "<table border=\"1\" class=\"dataframe\">\n",
       "  <thead>\n",
       "    <tr style=\"text-align: right;\">\n",
       "      <th></th>\n",
       "      <th>utterance</th>\n",
       "      <th>intent</th>\n",
       "      <th>entity_type</th>\n",
       "      <th>entity_value</th>\n",
       "      <th>start_offset</th>\n",
       "      <th>end_offset</th>\n",
       "      <th>category</th>\n",
       "      <th>tags</th>\n",
       "    </tr>\n",
       "  </thead>\n",
       "  <tbody>\n",
       "    <tr>\n",
       "      <th>0</th>\n",
       "      <td>how can I cancel purchase 113542617735902?</td>\n",
       "      <td>cancel_order</td>\n",
       "      <td>order_id</td>\n",
       "      <td>113542617735902</td>\n",
       "      <td>26.0</td>\n",
       "      <td>41.0</td>\n",
       "      <td>ORDER</td>\n",
       "      <td>BIL</td>\n",
       "    </tr>\n",
       "    <tr>\n",
       "      <th>1</th>\n",
       "      <td>can you help me canceling purchase 00004587345?</td>\n",
       "      <td>cancel_order</td>\n",
       "      <td>order_id</td>\n",
       "      <td>00004587345</td>\n",
       "      <td>35.0</td>\n",
       "      <td>46.0</td>\n",
       "      <td>ORDER</td>\n",
       "      <td>BIL</td>\n",
       "    </tr>\n",
       "    <tr>\n",
       "      <th>2</th>\n",
       "      <td>i want assistance to cancel purchase 732201349959</td>\n",
       "      <td>cancel_order</td>\n",
       "      <td>order_id</td>\n",
       "      <td>732201349959</td>\n",
       "      <td>37.0</td>\n",
       "      <td>49.0</td>\n",
       "      <td>ORDER</td>\n",
       "      <td>BLQ</td>\n",
       "    </tr>\n",
       "    <tr>\n",
       "      <th>3</th>\n",
       "      <td>i want assistance to cancel order 732201349959</td>\n",
       "      <td>cancel_order</td>\n",
       "      <td>order_id</td>\n",
       "      <td>732201349959</td>\n",
       "      <td>34.0</td>\n",
       "      <td>46.0</td>\n",
       "      <td>ORDER</td>\n",
       "      <td>BQ</td>\n",
       "    </tr>\n",
       "    <tr>\n",
       "      <th>4</th>\n",
       "      <td>I don't want my last item, help me cancel orde...</td>\n",
       "      <td>cancel_order</td>\n",
       "      <td>order_id</td>\n",
       "      <td>370795561790</td>\n",
       "      <td>48.0</td>\n",
       "      <td>60.0</td>\n",
       "      <td>ORDER</td>\n",
       "      <td>BCLN</td>\n",
       "    </tr>\n",
       "  </tbody>\n",
       "</table>\n",
       "</div>"
      ],
      "text/plain": [
       "                                           utterance        intent  \\\n",
       "0         how can I cancel purchase 113542617735902?  cancel_order   \n",
       "1    can you help me canceling purchase 00004587345?  cancel_order   \n",
       "2  i want assistance to cancel purchase 732201349959  cancel_order   \n",
       "3     i want assistance to cancel order 732201349959  cancel_order   \n",
       "4  I don't want my last item, help me cancel orde...  cancel_order   \n",
       "\n",
       "  entity_type     entity_value  start_offset  end_offset category  tags  \n",
       "0    order_id  113542617735902          26.0        41.0    ORDER   BIL  \n",
       "1    order_id      00004587345          35.0        46.0    ORDER   BIL  \n",
       "2    order_id     732201349959          37.0        49.0    ORDER   BLQ  \n",
       "3    order_id     732201349959          34.0        46.0    ORDER    BQ  \n",
       "4    order_id     370795561790          48.0        60.0    ORDER  BCLN  "
      ]
     },
     "execution_count": 79,
     "metadata": {},
     "output_type": "execute_result"
    }
   ],
   "source": [
    "training_df.head()"
   ]
  },
  {
   "cell_type": "code",
   "execution_count": 98,
   "id": "55ad0262-31e6-448f-b247-f2756fff2a1c",
   "metadata": {},
   "outputs": [],
   "source": [
    "df = training_df"
   ]
  },
  {
   "cell_type": "code",
   "execution_count": 103,
   "id": "8aa0bce7-0b97-4178-b9fd-2a18138f2037",
   "metadata": {},
   "outputs": [],
   "source": [
    "def remove_tags(tags):\n",
    "    new_tags = \"\"\n",
    "    for char in tags:\n",
    "        # if char not in ['B','I','L', 'N', 'G']:\n",
    "        if char in ['P', 'W', 'C', 'Q', 'Z']:\n",
    "            new_tags += char\n",
    "    return new_tags"
   ]
  },
  {
   "cell_type": "code",
   "execution_count": 104,
   "id": "6af8dc34-fa70-4dbd-b4f9-4350a7066fce",
   "metadata": {},
   "outputs": [],
   "source": [
    "df['tags'] = df['tags'].apply(remove_tags)"
   ]
  },
  {
   "cell_type": "code",
   "execution_count": 105,
   "id": "2902a679-29a5-4ac1-8e06-3d2de14b14ad",
   "metadata": {},
   "outputs": [
    {
     "data": {
      "text/html": [
       "<div>\n",
       "<style scoped>\n",
       "    .dataframe tbody tr th:only-of-type {\n",
       "        vertical-align: middle;\n",
       "    }\n",
       "\n",
       "    .dataframe tbody tr th {\n",
       "        vertical-align: top;\n",
       "    }\n",
       "\n",
       "    .dataframe thead th {\n",
       "        text-align: right;\n",
       "    }\n",
       "</style>\n",
       "<table border=\"1\" class=\"dataframe\">\n",
       "  <thead>\n",
       "    <tr style=\"text-align: right;\">\n",
       "      <th></th>\n",
       "      <th>utterance</th>\n",
       "      <th>intent</th>\n",
       "      <th>entity_type</th>\n",
       "      <th>entity_value</th>\n",
       "      <th>start_offset</th>\n",
       "      <th>end_offset</th>\n",
       "      <th>category</th>\n",
       "      <th>tags</th>\n",
       "    </tr>\n",
       "  </thead>\n",
       "  <tbody>\n",
       "    <tr>\n",
       "      <th>0</th>\n",
       "      <td>how can I cancel purchase 113542617735902?</td>\n",
       "      <td>cancel_order</td>\n",
       "      <td>order_id</td>\n",
       "      <td>113542617735902</td>\n",
       "      <td>26.0</td>\n",
       "      <td>41.0</td>\n",
       "      <td>ORDER</td>\n",
       "      <td></td>\n",
       "    </tr>\n",
       "    <tr>\n",
       "      <th>1</th>\n",
       "      <td>can you help me canceling purchase 00004587345?</td>\n",
       "      <td>cancel_order</td>\n",
       "      <td>order_id</td>\n",
       "      <td>00004587345</td>\n",
       "      <td>35.0</td>\n",
       "      <td>46.0</td>\n",
       "      <td>ORDER</td>\n",
       "      <td></td>\n",
       "    </tr>\n",
       "    <tr>\n",
       "      <th>2</th>\n",
       "      <td>i want assistance to cancel purchase 732201349959</td>\n",
       "      <td>cancel_order</td>\n",
       "      <td>order_id</td>\n",
       "      <td>732201349959</td>\n",
       "      <td>37.0</td>\n",
       "      <td>49.0</td>\n",
       "      <td>ORDER</td>\n",
       "      <td>Q</td>\n",
       "    </tr>\n",
       "    <tr>\n",
       "      <th>3</th>\n",
       "      <td>i want assistance to cancel order 732201349959</td>\n",
       "      <td>cancel_order</td>\n",
       "      <td>order_id</td>\n",
       "      <td>732201349959</td>\n",
       "      <td>34.0</td>\n",
       "      <td>46.0</td>\n",
       "      <td>ORDER</td>\n",
       "      <td>Q</td>\n",
       "    </tr>\n",
       "    <tr>\n",
       "      <th>4</th>\n",
       "      <td>I don't want my last item, help me cancel orde...</td>\n",
       "      <td>cancel_order</td>\n",
       "      <td>order_id</td>\n",
       "      <td>370795561790</td>\n",
       "      <td>48.0</td>\n",
       "      <td>60.0</td>\n",
       "      <td>ORDER</td>\n",
       "      <td>C</td>\n",
       "    </tr>\n",
       "  </tbody>\n",
       "</table>\n",
       "</div>"
      ],
      "text/plain": [
       "                                           utterance        intent  \\\n",
       "0         how can I cancel purchase 113542617735902?  cancel_order   \n",
       "1    can you help me canceling purchase 00004587345?  cancel_order   \n",
       "2  i want assistance to cancel purchase 732201349959  cancel_order   \n",
       "3     i want assistance to cancel order 732201349959  cancel_order   \n",
       "4  I don't want my last item, help me cancel orde...  cancel_order   \n",
       "\n",
       "  entity_type     entity_value  start_offset  end_offset category tags  \n",
       "0    order_id  113542617735902          26.0        41.0    ORDER       \n",
       "1    order_id      00004587345          35.0        46.0    ORDER       \n",
       "2    order_id     732201349959          37.0        49.0    ORDER    Q  \n",
       "3    order_id     732201349959          34.0        46.0    ORDER    Q  \n",
       "4    order_id     370795561790          48.0        60.0    ORDER    C  "
      ]
     },
     "execution_count": 105,
     "metadata": {},
     "output_type": "execute_result"
    }
   ],
   "source": [
    "df.head()"
   ]
  },
  {
   "cell_type": "code",
   "execution_count": 106,
   "id": "8088c437-42f0-4ac9-a85d-e33775c01f8f",
   "metadata": {},
   "outputs": [
    {
     "data": {
      "text/plain": [
       "array(['', 'Q', 'C', 'QZ', 'Z', 'CQ', 'P', 'CP', 'PQZ', 'CQZ', 'CPQZ',\n",
       "       'PQ', 'CQW', 'CPQ', 'CQWZ', 'WZ', 'W', 'QW', 'QWZ', 'PQWZ', 'CZ',\n",
       "       'CW', 'CPW', 'CPQW', 'PQW', 'PZ', 'CPQWZ', 'CPWZ', 'CWZ', 'PW'],\n",
       "      dtype=object)"
      ]
     },
     "execution_count": 106,
     "metadata": {},
     "output_type": "execute_result"
    }
   ],
   "source": [
    "df['tags'].unique()"
   ]
  },
  {
   "cell_type": "code",
   "execution_count": 64,
   "id": "90a687c0-1178-4cab-ae2b-c5333b6e322d",
   "metadata": {},
   "outputs": [],
   "source": [
    "def contains_tags(tags):\n",
    "    for char in tags:\n",
    "        if char in ['Z', 'P']:\n",
    "            return True\n",
    "    return False"
   ]
  },
  {
   "cell_type": "code",
   "execution_count": null,
   "id": "08c35201-47f9-4805-907e-2754aab596a6",
   "metadata": {},
   "outputs": [],
   "source": [
    "print((df[df['tags'].apply(contains_tags)]))"
   ]
  },
  {
   "cell_type": "code",
   "execution_count": 107,
   "id": "b33be920-a8cc-4037-89a2-38f19392cf14",
   "metadata": {},
   "outputs": [],
   "source": [
    "def contains_custom_input(tags, custom_input):\n",
    "    for char in tags:\n",
    "        if char == custom_input:\n",
    "            return True\n",
    "    return False"
   ]
  },
  {
   "cell_type": "code",
   "execution_count": 108,
   "id": "c86a84fd-7d45-42cf-8c1e-6accc6672953",
   "metadata": {},
   "outputs": [],
   "source": [
    "arr = df['tags'].unique()"
   ]
  },
  {
   "cell_type": "code",
   "execution_count": 110,
   "id": "38ace275-ae39-4590-a3cf-b0d41cc8d743",
   "metadata": {},
   "outputs": [
    {
     "data": {
      "text/plain": [
       "0"
      ]
     },
     "execution_count": 110,
     "metadata": {},
     "output_type": "execute_result"
    }
   ],
   "source": [
    "len(df[df['tags'].apply(contains_custom_input, args=[\"CPQWZ\"])])"
   ]
  },
  {
   "cell_type": "code",
   "execution_count": null,
   "id": "43b543a5-9fd4-4778-bd09-edeb41eed6b6",
   "metadata": {},
   "outputs": [],
   "source": []
  }
 ],
 "metadata": {
  "kernelspec": {
   "display_name": "Python 3 (ipykernel)",
   "language": "python",
   "name": "python3"
  },
  "language_info": {
   "codemirror_mode": {
    "name": "ipython",
    "version": 3
   },
   "file_extension": ".py",
   "mimetype": "text/x-python",
   "name": "python",
   "nbconvert_exporter": "python",
   "pygments_lexer": "ipython3",
   "version": "3.11.3"
  }
 },
 "nbformat": 4,
 "nbformat_minor": 5
}
